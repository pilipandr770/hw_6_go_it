{
  "nbformat": 4,
  "nbformat_minor": 0,
  "metadata": {
    "colab": {
      "provenance": [],
      "authorship_tag": "ABX9TyOgumMZcCaGLdP0m+yfx5Dh",
      "include_colab_link": true
    },
    "kernelspec": {
      "name": "python3",
      "display_name": "Python 3"
    },
    "language_info": {
      "name": "python"
    }
  },
  "cells": [
    {
      "cell_type": "markdown",
      "metadata": {
        "id": "view-in-github",
        "colab_type": "text"
      },
      "source": [
        "<a href=\"https://colab.research.google.com/github/pilipandr770/hw_6_go_it/blob/main/Untitled7.ipynb\" target=\"_parent\"><img src=\"https://colab.research.google.com/assets/colab-badge.svg\" alt=\"Open In Colab\"/></a>"
      ]
    },
    {
      "cell_type": "code",
      "execution_count": 1,
      "metadata": {
        "colab": {
          "base_uri": "https://localhost:8080/"
        },
        "id": "KP5Zy2gYwGJ8",
        "outputId": "3d93288d-8b7c-4035-96d7-3dee666c782a"
      },
      "outputs": [
        {
          "output_type": "stream",
          "name": "stdout",
          "text": [
            "Итерация 0, Потеря: 13078974890183.088\n",
            "Итерация 100, Потеря: 10590084400717.445\n",
            "Итерация 200, Потеря: 8619589205281.197\n",
            "Итерация 300, Потеря: 7059417310851.325\n",
            "Итерация 400, Потеря: 5824032448378.649\n",
            "Итерация 500, Потеря: 4845734454042.639\n",
            "Итерация 600, Потеря: 4070939740550.432\n",
            "Итерация 700, Потеря: 3457237461336.3145\n",
            "Итерация 800, Потеря: 2971059597684.7563\n",
            "Итерация 900, Потеря: 2585836936009.9263\n",
            "Параметры (w): [2837055.98370502  581769.76786229  219903.3766946  1145193.19019102]\n"
          ]
        }
      ],
      "source": [
        "import numpy as np\n",
        "import pandas as pd\n",
        "from sklearn.preprocessing import StandardScaler\n",
        "\n",
        "# Загрузка данных\n",
        "url = 'https://drive.google.com/uc?id=1-rAa4XT4_fI0dOBlMNuE6a7jB0wln_Qo'\n",
        "data = pd.read_csv(url)\n",
        "\n",
        "# Просмотр первых строк данных\n",
        "data.head()\n",
        "\n",
        "def hypothesis(X, w):\n",
        "    return np.dot(X, w)\n",
        "\n",
        "def compute_loss(X, y, w):\n",
        "    m = len(y)\n",
        "    predictions = hypothesis(X, w)\n",
        "    loss = (1 / (2 * m)) * np.sum((predictions - y) ** 2)\n",
        "    return loss\n",
        "\n",
        "def gradient_descent_step(X, y, w, learning_rate):\n",
        "    m = len(y)\n",
        "    predictions = hypothesis(X, w)\n",
        "    gradient = (1 / m) * np.dot(X.T, (predictions - y))\n",
        "    w = w - learning_rate * gradient\n",
        "    return w\n",
        "\n",
        "def linear_regression_gradient_descent(X, y, learning_rate, iterations):\n",
        "    w = np.zeros(X.shape[1])\n",
        "    for i in range(iterations):\n",
        "        w = gradient_descent_step(X, y, w, learning_rate)\n",
        "        if i % 100 == 0:\n",
        "            loss = compute_loss(X, y, w)\n",
        "            print(f\"Итерация {i}, Потеря: {loss}\")\n",
        "    return w\n",
        "\n",
        "# Добавление столбца перехвата\n",
        "data['Intercept'] = 1\n",
        "\n",
        "# Выбор необходимых столбцов\n",
        "X = data[['Intercept', 'area', 'bedrooms', 'bathrooms']].values\n",
        "y = data['price'].values\n",
        "\n",
        "# Стандартизация признаков\n",
        "scaler = StandardScaler()\n",
        "X[:, 1:] = scaler.fit_transform(X[:, 1:])\n",
        "\n",
        "# Гиперпараметры\n",
        "learning_rate = 0.001\n",
        "iterations = 1000\n",
        "\n",
        "# Обучение модели\n",
        "w = linear_regression_gradient_descent(X, y, learning_rate, iterations)\n",
        "print(\"Параметры (w):\", w)\n"
      ]
    }
  ]
}